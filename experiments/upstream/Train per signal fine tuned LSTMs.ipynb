{
 "cells": [
  {
   "cell_type": "markdown",
   "metadata": {},
   "source": [
    "### Fine tune per signal LSTMs\n",
    "\n",
    "Train LSTMs by initializing them with the best LSTM from the other hospital data set."
   ]
  },
  {
   "cell_type": "code",
   "execution_count": null,
   "metadata": {},
   "outputs": [],
   "source": [
    "import os\n",
    "os.environ[\"CUDA_VISIBLE_DEVICES\"] = \"3\"\n",
    "from phase.embedding import *\n",
    "\n",
    "PATH = os.path.expanduser(\"~/upstream_embedding/\")\n",
    "\n",
    "def get_datapath(PATH,feat,hosp_data,task):\n",
    "    DATAPATH  = '{}data/min5_data/{}minimum5/hospital_{}/proc/'.format(PATH,feat,hosp_data)\n",
    "    if task == \"hypox\":\n",
    "        DATAPATH  = '{}data/desat_bool92_5_nodesat/hospital_{}/proc/'.format(PATH,hosp_data)\n",
    "    elif task == \"hypoc\":\n",
    "        DATAPATH  = '{}data/etco235/hospital_{}/proc/'.format(PATH,hosp_data)\n",
    "    elif task == \"hypot\":\n",
    "        DATAPATH  = '{}data/nibpm60/hospital_{}/proc/'.format(PATH,hosp_data)\n",
    "    return(DATAPATH)\n",
    "\n",
    "for task in [\"nextfive\", \"minimum5\", \"hypox\", \"hypot\", \"hypoc\"]:\n",
    "    for hosp_data in [0,1]:\n",
    "        print(\"[Progress] Current hospital: {}\".format(hosp_data))\n",
    "        for i in range(0,len(X_lst)):\n",
    "            \n",
    "            # Select opposite hospital to initialize\n",
    "            if hosp_data == 0:\n",
    "                hosp_source = 1\n",
    "            elif hosp_data == 1:\n",
    "                hosp_source = 0\n",
    "            \n",
    "            # Current feature\n",
    "            feat = X_lst[i]\n",
    "\n",
    "            # Load data\n",
    "            DATAPATH  = get_datapath(PATH,feat,hosp_data,task)\n",
    "            train_x, train_y, val_x, val_y = load_train_val_data(DATAPATH, task, feat)\n",
    "\n",
    "            # Load model and initialize new model with these weights\n",
    "            source_mpath = \"{}models/200epochs/{}/hospital_{}/\".format(PATH,task,hosp_source)\n",
    "            min_mod = load_min_model(source_mpath, feat)\n",
    "            model, mod_name, epoch_num = create_model(train_y.shape[1], min_mod=min_mod, \n",
    "                                                      fine_tune=True, task=task)\n",
    "\n",
    "            # Set up model path\n",
    "            curr_task = \"feat:{}_task:{}_hosp:{}to{}\".format(feat,task,hosp_source,hosp_data)\n",
    "            MODDIR    = \"{}models/200epochs/{}/\".format(PATH,task)\n",
    "            MODDIR    += \"hospital_{}/{}_{}/\".format(hosp_data,curr_task,mod_name)\n",
    "            print(\"MODDIR {}\".format(MODDIR))\n",
    "\n",
    "            if not os.path.exists(MODDIR): os.makedirs(MODDIR)\n",
    "\n",
    "            # Train model\n",
    "            train_model(model, mod_name, train_x, train_y, val_x, val_y, \n",
    "                        MODDIR, epoch_num, early_stopping_rounds=200)"
   ]
  },
  {
   "cell_type": "code",
   "execution_count": null,
   "metadata": {},
   "outputs": [],
   "source": []
  }
 ],
 "metadata": {
  "kernelspec": {
   "display_name": "Python (tf36)",
   "language": "python",
   "name": "tf36"
  },
  "language_info": {
   "codemirror_mode": {
    "name": "ipython",
    "version": 3
   },
   "file_extension": ".py",
   "mimetype": "text/x-python",
   "name": "python",
   "nbconvert_exporter": "python",
   "pygments_lexer": "ipython3",
   "version": "3.6.8"
  }
 },
 "nbformat": 4,
 "nbformat_minor": 4
}
