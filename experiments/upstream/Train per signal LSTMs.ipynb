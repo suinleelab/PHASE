{
 "cells": [
  {
   "cell_type": "markdown",
   "metadata": {},
   "source": [
    "### Train per signal LSTMs\n",
    "\n",
    "Train LSTMs in a particular hospital data set by randomly initialization and save the models for using for embedding"
   ]
  },
  {
   "cell_type": "code",
   "execution_count": null,
   "metadata": {},
   "outputs": [],
   "source": [
    "import os\n",
    "os.environ[\"CUDA_VISIBLE_DEVICES\"] = \"3\"\n",
    "from phase.embedding import *\n",
    "\n",
    "PATH = os.path.expanduser(\"~/phase/upstream_embedding/\")\n",
    "\n",
    "# The upstream task we trained the LSTMs with\n",
    "task = \"nextfive\"\n",
    "# task = \"minimum5\"\n",
    "# task = \"hypo\"\n",
    "\n",
    "for hosp_data in [0,1]:\n",
    "    print(\"Current hospital: {}\".format(hosp_data))\n",
    "    for i in range(0,len(X_lst)):\n",
    "        feat = X_lst[i]\n",
    "        print(\"Current feature: {}\".format(feat))\n",
    "\n",
    "        # Load data\n",
    "        DATAPATH  = \"{}data/min5_data/{}minimum5/\".format(PATH,feat)\n",
    "        DATAPATH += \"hospital_{}/proc/\".format(hosp_data)\n",
    "        train_x, train_y, val_x, val_y = load_train_val_data(DATAPATH, task)\n",
    "        model, mod_name, epoch_num = create_model(train_y.shape[1])\n",
    "\n",
    "        # Set up model path\n",
    "        curr_task = \"feat:{}_task:{}_hosp:{}\".format(feat,task,hosp_data)\n",
    "        MODDIR    = \"{}models/200epochs/{}/\".format(PATH,task)\n",
    "        MODDIR   += \"hospital_{}/{}_{}/\".format(hosp_data,curr_task,mod_name)\n",
    "        if not os.path.exists(MODDIR): os.makedirs(MODDIR)\n",
    "\n",
    "        # Train model\n",
    "        train_model(model, mod_name, train_x, train_y, val_x, val_y, \n",
    "                    MODDIR, epoch_num, early_stopping_rounds=200)"
   ]
  },
  {
   "cell_type": "code",
   "execution_count": null,
   "metadata": {},
   "outputs": [],
   "source": []
  }
 ],
 "metadata": {
  "kernelspec": {
   "display_name": "Python (tf36)",
   "language": "python",
   "name": "tf36"
  },
  "language_info": {
   "codemirror_mode": {
    "name": "ipython",
    "version": 3
   },
   "file_extension": ".py",
   "mimetype": "text/x-python",
   "name": "python",
   "nbconvert_exporter": "python",
   "pygments_lexer": "ipython3",
   "version": "3.6.8"
  }
 },
 "nbformat": 4,
 "nbformat_minor": 4
}
