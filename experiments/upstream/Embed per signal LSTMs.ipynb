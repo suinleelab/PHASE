{
 "cells": [
  {
   "cell_type": "markdown",
   "metadata": {},
   "source": [
    "### Embed data using per signal LSTMs\n",
    "\n",
    "Embed the downstream prediction data using the per signal LSTMs"
   ]
  },
  {
   "cell_type": "code",
   "execution_count": null,
   "metadata": {},
   "outputs": [],
   "source": [
    "import os\n",
    "os.environ[\"CUDA_VISIBLE_DEVICES\"] = \"1\"\n",
    "from phase.embedding import *\n",
    "\n",
    "PATH = os.path.expanduser(\"~/upstream_embedding/\")\n",
    "\n",
    "# The upstream task we trained the LSTMs with\n",
    "task = \"nextfive\"\n",
    "# task = \"minimum5\"\n",
    "# task = \"hypo\"\n",
    "\n",
    "# Downstream tasks corresponding to different data sets that we will emebd \n",
    "final_tasks = [\"etco235\", \"desat_bool92_5_nodesat\", \"nibpm60\"]\n",
    "\n",
    "for final_task in final_tasks:\n",
    "    for hosp_data in [0,1]:\n",
    "        for hosp_model in [0,1]:\n",
    "            for i in range(len(X_lst)):\n",
    "                # Find the minimum val_loss model\n",
    "                feat = X_lst[i]; feat_id = feat_ids[i]\n",
    "\n",
    "                # Load min_mod\n",
    "                MPATH = \"{}/models/200epochs/{}/hospital_{}/\".format(PATH,task,hosp_model)\n",
    "                min_mod = load_min_model(MPATH,feat)\n",
    "\n",
    "                # Make the model without the final dense layer\n",
    "                model, _, _ = create_model(output_size=False,min_mod=min_mod)\n",
    "\n",
    "                # Load original data hospital0 - Corresponds to the feature the LSTM was trained on\n",
    "                DPATH = PATH+\"data/{}/hospital{}_data/proc/\".format(final_task,hosp_data)\n",
    "                X_trval,X_test1 = load_trval_test_data(DPATH,feat)\n",
    "\n",
    "                # Process and save\n",
    "                SPATH = PATH+\"data/{}/hospital{}_data/\".format(final_task,hosp_data)\n",
    "                SPATH += \"hidden200/{}/model_{}/\".format(task,hosp_model)\n",
    "                suffix = \"embedding_data{}_model{}.npy\".format(hosp_data,hosp_model)\n",
    "                embed_and_save(SPATH,suffix,model,X_trval,X_test1,feat,task)"
   ]
  },
  {
   "cell_type": "code",
   "execution_count": null,
   "metadata": {},
   "outputs": [],
   "source": []
  }
 ],
 "metadata": {
  "kernelspec": {
   "display_name": "Python 2",
   "language": "python",
   "name": "python2"
  },
  "language_info": {
   "codemirror_mode": {
    "name": "ipython",
    "version": 2
   },
   "file_extension": ".py",
   "mimetype": "text/x-python",
   "name": "python",
   "nbconvert_exporter": "python",
   "pygments_lexer": "ipython2",
   "version": "2.7.5"
  }
 },
 "nbformat": 4,
 "nbformat_minor": 4
}
