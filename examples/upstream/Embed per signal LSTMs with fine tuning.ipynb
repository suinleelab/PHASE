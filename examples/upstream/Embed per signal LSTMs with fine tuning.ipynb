{
 "cells": [
  {
   "cell_type": "markdown",
   "metadata": {},
   "source": [
    "# Create hidden data with all the fine tuned nextfive models"
   ]
  },
  {
   "cell_type": "code",
   "execution_count": null,
   "metadata": {},
   "outputs": [],
   "source": [
    "import os\n",
    "os.environ[\"CUDA_VISIBLE_DEVICES\"] = \"5\"\n",
    "import sys\n",
    "sys.path.append(\"..\")\n",
    "from embedding_utils import *\n",
    "\n",
    "import tensorflow as tf\n",
    "from keras.backend.tensorflow_backend import set_session\n",
    "config = tf.ConfigProto(allow_soft_placement=True,gpu_options = tf.GPUOptions(allow_growth=True))\n",
    "set_session(tf.Session(config=config))\n",
    "\n",
    "PATH = \"/homes/gws/hughchen/phase/upstream_embedding/\"\n",
    "\n",
    "task = \"nextfive\"\n",
    "final_tasks = [\"etco235\", \"desat_bool92_5_nodesat\", \"nibpm60\", \"med_phenyl\", \"nibpm110\"]\n",
    "\n",
    "for final_task in final_tasks:\n",
    "    for hosp_data in [0,1]:\n",
    "        for hosp_model in [\"0to1\",\"1to0\"]:\n",
    "            for i in range(len(X_lst)):\n",
    "                # Find the minimum val_loss model\n",
    "                feat = X_lst[i]; feat_id = feat_ids[i]\n",
    "\n",
    "                # Load min_mod\n",
    "                MPATH = \"{}/models/200epochs/{}/hospital_{}/\".format(PATH,task,hosp_model)\n",
    "                min_mod = load_min_model(MPATH,feat)\n",
    "\n",
    "                # Make the model without the final dense layer\n",
    "                model, _, _ = create_model(output_size=False,min_mod=min_mod)\n",
    "\n",
    "                # Load original data hospital0 - Corresponds to the feature the LSTM was trained on\n",
    "                DPATH = PATH+\"data/{}/hospital_{}/proc/\".format(final_task,hosp_data)\n",
    "                print(\"[DEBUG] DPATH: {}\".format(DPATH))\n",
    "                X_trval,X_test1 = load_trval_test_data(DPATH,feat)\n",
    "\n",
    "                # Process and save\n",
    "                SPATH = PATH+\"data/{}/hospital_{}/hidden200/{}/model_{}/\".format(final_task,hosp_data,task,hosp_model)\n",
    "                suffix = \"embedding_data{}_model{}.npy\".format(hosp_data,hosp_model)\n",
    "                embed_and_save(SPATH,suffix,model,X_trval,X_test1,feat,task)"
   ]
  },
  {
   "cell_type": "code",
   "execution_count": null,
   "metadata": {},
   "outputs": [],
   "source": []
  }
 ],
 "metadata": {
  "kernelspec": {
   "display_name": "Python (tf36)",
   "language": "python",
   "name": "tf36"
  },
  "language_info": {
   "codemirror_mode": {
    "name": "ipython",
    "version": 3
   },
   "file_extension": ".py",
   "mimetype": "text/x-python",
   "name": "python",
   "nbconvert_exporter": "python",
   "pygments_lexer": "ipython3",
   "version": "3.6.8"
  }
 },
 "nbformat": 4,
 "nbformat_minor": 2
}
